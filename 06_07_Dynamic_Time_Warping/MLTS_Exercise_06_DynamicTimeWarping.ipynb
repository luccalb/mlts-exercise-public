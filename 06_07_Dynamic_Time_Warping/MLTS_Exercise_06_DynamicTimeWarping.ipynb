{
 "cells": [
  {
   "attachments": {},
   "cell_type": "markdown",
   "metadata": {
    "collapsed": false
   },
   "source": [
    "# MLTS Exercise 06 - Dynamic Time Warping\n",
    "\n",
    "In this exercise you will be implementing the DTW algorithm.\n",
    "DTW trys to find a global alignment between two sequences X and Y.\n",
    "There are three important conditions that the alignment has to fulfill:\n",
    " - Boundary condition\n",
    "    - Enforces that the first and last element of the two sequences are matched\n",
    " - Monotonicity condition\n",
    "    - An alignment can only be made with the current elements or next elements of the two sequences\n",
    "    - One of the indexes has to advance\n",
    " - Step-size condition\n",
    "    - No element in X and Y can be skipped"
   ]
  },
  {
   "attachments": {},
   "cell_type": "markdown",
   "metadata": {
    "collapsed": false,
    "pycharm": {
     "name": "#%% md\n"
    }
   },
   "source": [
    "### Algorithm Cost Matrix\n",
    "* Inputs: x<sub>1:N</sub> and y<sub>1:K</sub>\n",
    "\n",
    "* Cost/Distance matrix: $M \\in \\mathbb{R}^{N+1 \\times K+1}$\n",
    "\n",
    "* Initialization:   <br>\n",
    "for $i=1$ to N: $M_{i,0} = \\infty$ <br>\n",
    "for $j=1$ to K: $M_{0,j} = \\infty$ <br>\n",
    "$M_{0,0} = 0$\n",
    "\n",
    "* Calculate cost matrix: <br>\n",
    "for $i=1$ to N: <br>\n",
    "  &nbsp;&nbsp;&nbsp;&nbsp; for $j=1$ to K: <br>\n",
    "   &nbsp;&nbsp;&nbsp;&nbsp;&nbsp;&nbsp;&nbsp;&nbsp; $dist(x_i,y_j) = |x_i-y_j|$ <br>\n",
    "  &nbsp;&nbsp;&nbsp;&nbsp;&nbsp;&nbsp;&nbsp;&nbsp; $M_{i,j} = dist(x_i,y_j) + min(M_{i-1,j-1}, M_{i-1,j}, M_{i,j-1})$ <br>\n",
    "\n",
    "### Algorithm Optimal Warping Path\n",
    "\n",
    "* Select optimal warping path <br>\n",
    "$d = \\{q_1, ..., q_l\\}$<br>\n",
    "Starting at $q = (N, K)$, repeat until $q = (0, 0)$:<br>\n",
    "&nbsp; If N == 0: $q = (0, K - 1)$ <br>\n",
    "&nbsp; If K == 0: $q = (N - 1, 0)$ <br>\n",
    "&nbsp; Else: $q = argmin\\{M(n-1, k-1), M(n-1, k), M(n, k-1)\\}$ <br>\n",
    "&nbsp; &nbsp; Important: argmin is not unique, always take cell with smallest index (N, K)\n",
    "\n",
    "* Get cost of optimal warping path <br>\n",
    "$c_P = \\sum_{(i, j) \\in d} dist(x_i,y_j)$\n"
   ]
  },
  {
   "attachments": {},
   "cell_type": "markdown",
   "metadata": {},
   "source": [
    "### Task:\n",
    "\n",
    "* Implement the calculation of the cost matrix in `dtw(s, t)`\n",
    "* Computate the optimal wrapping path in `compute_optimal_warping_path(D)`\n",
    "* Calculate the cost of the optimal wrapping path"
   ]
  },
  {
   "cell_type": "markdown",
   "metadata": {
    "collapsed": false
   },
   "source": [
    "Let's first import all the packages that you will need during this assignment."
   ]
  },
  {
   "cell_type": "code",
   "execution_count": 37,
   "metadata": {
    "collapsed": false,
    "pycharm": {
     "name": "#%%\n"
    }
   },
   "outputs": [],
   "source": [
    "import numpy as np\n",
    "from matplotlib import pyplot as plt"
   ]
  },
  {
   "attachments": {},
   "cell_type": "markdown",
   "metadata": {},
   "source": [
    "Define helper functions"
   ]
  },
  {
   "cell_type": "code",
   "execution_count": 38,
   "metadata": {
    "collapsed": false,
    "pycharm": {
     "name": "#%%\n"
    }
   },
   "outputs": [],
   "source": [
    "def show_cost_matrix(M: np.array, d: np.array = None):\n",
    "    \"\"\"Display the cost matrix.\n",
    "    \n",
    "    Args:\n",
    "        M (array): Cost matrix M.\n",
    "        d (array, optional): Optimal path.\n",
    "    \"\"\"\n",
    "    # setup\n",
    "    plt.figure()\n",
    "\n",
    "    plt.imshow(M, cmap='gray_r', origin='lower', aspect='equal')\n",
    "    plt.title('Cost Matrix $M$')\n",
    "\n",
    "    if d is not None:\n",
    "        # plot optimal path\n",
    "        plt.plot(d[:, 1], d[:, 0], marker='o', color='r')\n",
    "        plt.title('$M$ with optimal warping path d')\n",
    "\n",
    "    plt.xlabel('Sequence Y')\n",
    "    plt.ylabel('Sequence X')\n",
    "    plt.colorbar()\n",
    "    plt.show()"
   ]
  },
  {
   "cell_type": "markdown",
   "metadata": {
    "collapsed": false,
    "pycharm": {
     "name": "#%% md\n"
    }
   },
   "source": [
    "Define and visualize the data:"
   ]
  },
  {
   "cell_type": "code",
   "execution_count": 39,
   "metadata": {
    "collapsed": false,
    "pycharm": {
     "name": "#%%\n"
    }
   },
   "outputs": [
    {
     "data": {
      "image/png": "[encoded data removed]",
      "text/plain": [
       "<Figure size 600x200 with 1 Axes>"
      ]
     },
     "metadata": {},
     "output_type": "display_data"
    }
   ],
   "source": [
    "P = [1, 4, 5, 10, 9, 3, 2, 6, 8, 4]\n",
    "Q = [1, 7, 3, 4, 1, 10, 5, 4, 7, 4]\n",
    "\n",
    "# Display created figure\n",
    "plt.figure(figsize=(6, 2))\n",
    "plt.plot(P, label='$P$')\n",
    "plt.plot(Q, label='$Q$')\n",
    "\n",
    "plt.legend()\n",
    "plt.tight_layout()"
   ]
  },
  {
   "cell_type": "markdown",
   "metadata": {
    "collapsed": false,
    "pycharm": {
     "name": "#%% md\n"
    }
   },
   "source": [
    "Define methods for DTW algorithm and calculation of optimal warping path:"
   ]
  },
  {
   "cell_type": "code",
   "execution_count": 40,
   "metadata": {
    "collapsed": false,
    "pycharm": {
     "name": "#%%\n"
    }
   },
   "outputs": [],
   "source": [
    "def dtw(s: list, t: list) -> np.array:\n",
    "    \"\"\"Compute the accumulated cost matrix\n",
    "\n",
    "    Args:\n",
    "        s (list): Sequence 1.\n",
    "        t (list): Sequence 2.\n",
    "\n",
    "    Returns:\n",
    "        dtw_matrix (np.ndarray): Accumulated cost matrix\n",
    "    \"\"\"\n",
    "    # Define cost matrix\n",
    "    n, k = len(s), len(t)\n",
    "    # Initialization of cost matrix\n",
    "\n",
    "    dtw_matrix = np.ones((n,k)) * np.inf\n",
    "    \n",
    "    # Calculation of cost\n",
    "    for i in range(n):\n",
    "        for j in range(k):\n",
    "            if i+j == 0:\n",
    "                dtw_matrix[i,j] = 0\n",
    "                continue\n",
    "           \n",
    "            abs_dist = abs(s[i] - t[j])\n",
    "            min_neighbor = min(dtw_matrix[i-1, j-1], dtw_matrix[i, j-1], dtw_matrix[i-1, j])\n",
    "            dtw_matrix[i,j] = abs_dist + min_neighbor\n",
    "\n",
    "\n",
    "    return dtw_matrix"
   ]
  },
  {
   "cell_type": "markdown",
   "metadata": {
    "collapsed": false,
    "pycharm": {
     "name": "#%% md\n"
    }
   },
   "source": [
    "Get DTW matrix:"
   ]
  },
  {
   "cell_type": "code",
   "execution_count": 41,
   "metadata": {
    "collapsed": false,
    "pycharm": {
     "name": "#%%\n"
    }
   },
   "outputs": [
    {
     "name": "stdout",
     "output_type": "stream",
     "text": [
      "Accumulated cost matrix D =\n",
      "[[21. 23. 20. 17. 20. 24. 19. 18. 18. 15.]\n",
      " [23. 20. 19. 17. 20. 18. 18. 19. 15. 18.]\n",
      " [23. 19. 14. 13. 17. 16. 15. 15. 14. 16.]\n",
      " [18. 19. 11. 12. 12. 20. 14. 13. 17. 18.]\n",
      " [23. 14. 10. 11. 13. 16. 11. 12. 16. 17.]\n",
      " [24. 10. 14. 16. 19.  9. 12. 17. 18. 21.]\n",
      " [16.  8. 12. 11. 14.  8. 13. 18. 16. 21.]\n",
      " [ 7.  5.  5.  5.  8. 12. 12. 13. 15. 16.]\n",
      " [ 3.  3.  4.  4.  7. 13. 14. 14. 17. 17.]\n",
      " [ 0.  6.  8. 11. 11. 20. 24. 27. 33. 36.]]\n",
      "DTW distance DTW(X, Y) = 15.0\n"
     ]
    },
    {
     "data": {
      "image/png": "[encoded data removed]",
      "text/plain": [
       "<Figure size 640x480 with 2 Axes>"
      ]
     },
     "metadata": {},
     "output_type": "display_data"
    }
   ],
   "source": [
    "# get cost matrix\n",
    "distance_matrix = dtw(P, Q)\n",
    "\n",
    "# Print and show matrix\n",
    "print('Accumulated cost matrix D =', np.flip(distance_matrix, axis=0), sep='\\n')\n",
    "print('DTW distance DTW(X, Y) =', distance_matrix[-1, -1])\n",
    "show_cost_matrix(distance_matrix)"
   ]
  },
  {
   "cell_type": "code",
   "execution_count": 42,
   "metadata": {},
   "outputs": [],
   "source": [
    "def compute_optimal_warping_path(M: np.array) -> np.array:\n",
    "    \"\"\"Compute the warping path given an accumulated cost matrix.\n",
    "\n",
    "    Args:\n",
    "        M (np.ndarray): Accumulated cost matrix\n",
    "\n",
    "    Returns:\n",
    "        d (np.ndarray): Optimal warping path\n",
    "    \"\"\"\n",
    "    # init optimal path with highest position\n",
    "    n = M.shape[0] - 1\n",
    "    k = M.shape[1] - 1\n",
    "    OP = [(n, k)]\n",
    "    \n",
    "\n",
    "    # go from highest to the lowest\n",
    "    while not (n == 0 and k ==0):\n",
    "        if n == 0:\n",
    "            k -= 1\n",
    "        if k == 0:\n",
    "            n -= 1\n",
    "        else:\n",
    "            helper = np.ones_like(M) * np.inf\n",
    "            helper[n-1, k] = M[n-1, k]\n",
    "            helper[n, k-1] = M[n, k-1]\n",
    "            helper[n-1, k-1] = M[n-1, k-1]\n",
    "            \n",
    "            (n,k) = np.unravel_index(np.argmin(helper), helper.shape)\n",
    "        \n",
    "        OP.append((n,k))\n",
    "\n",
    "    # reverse list, starting with [0, 0]\n",
    "    OP.reverse()\n",
    "\n",
    "    return np.array(OP)"
   ]
  },
  {
   "cell_type": "code",
   "execution_count": 43,
   "metadata": {},
   "outputs": [],
   "source": [
    "def compute_cost_of_d(s: list, t: list, d: np.array) -> float:\n",
    "    \"\"\"Compute the cost of the optimal wraping path.\n",
    "    \n",
    "    Args:\n",
    "        s (list): Sequence 1.\n",
    "        t (list): Sequence 2.\n",
    "        d (array, optional): Optimal path.\n",
    "\n",
    "    Returns:\n",
    "        cost_op (float): Cost of OP.\n",
    "    \"\"\"\n",
    "    \n",
    "    cost_op = 0.0\n",
    "    \n",
    "    for (i,j) in d:\n",
    "        cost_op += abs(s[i]-t[j])\n",
    "    \n",
    "    return cost_op"
   ]
  },
  {
   "cell_type": "markdown",
   "metadata": {
    "collapsed": false,
    "pycharm": {
     "name": "#%% md\n"
    }
   },
   "source": [
    "Compute optimal warping path:"
   ]
  },
  {
   "cell_type": "code",
   "execution_count": 44,
   "metadata": {
    "collapsed": false,
    "pycharm": {
     "name": "#%%\n"
    }
   },
   "outputs": [
    {
     "name": "stdout",
     "output_type": "stream",
     "text": [
      "Optimal warping path P = [[0, 0], [1, 1], [1, 2], [1, 3], [2, 4], [3, 5], [4, 5], [5, 6], [6, 7], [7, 8], [8, 8], [9, 9]]\n",
      "Normalized accumulated alignment cost: 15.0\n"
     ]
    },
    {
     "data": {
      "image/png": "[encoded data removed]",
      "text/plain": [
       "<Figure size 640x480 with 2 Axes>"
      ]
     },
     "metadata": {},
     "output_type": "display_data"
    }
   ],
   "source": [
    "# compute the optimal path\n",
    "optimal_path = compute_optimal_warping_path(distance_matrix)\n",
    "\n",
    "# compute the cost of the optimal path\n",
    "cost_path = compute_cost_of_d(P, Q, optimal_path)\n",
    "\n",
    "# Print results\n",
    "print('Optimal warping path P =', optimal_path.tolist())\n",
    "print('Normalized accumulated alignment cost:', cost_path)\n",
    "show_cost_matrix(distance_matrix, optimal_path)"
   ]
  }
 ],
 "metadata": {
  "coursera": {
   "course_slug": "nlp-sequence-models",
   "graded_item_id": "xxuVc",
   "launcher_item_id": "X20PE"
  },
  "kernelspec": {
   "display_name": ".env",
   "language": "python",
   "name": "python3"
  },
  "language_info": {
   "codemirror_mode": {
    "name": "ipython",
    "version": 3
   },
   "file_extension": ".py",
   "mimetype": "text/x-python",
   "name": "python",
   "nbconvert_exporter": "python",
   "pygments_lexer": "ipython3",
   "version": "3.10.12"
  },
  "pycharm": {
   "stem_cell": {
    "cell_type": "raw",
    "metadata": {
     "collapsed": false
    },
    "source": [
     "addepted from:\n",
     "https://databricks.com/blog/2019/04/30/understanding-dynamic-time-warping.html\n",
     "and\n",
     "https://www.audiolabs-erlangen.de/resources/MIR/FMP/C3/C3S2_DTWbasic.html"
    ]
   }
  }
 },
 "nbformat": 4,
 "nbformat_minor": 2
}
