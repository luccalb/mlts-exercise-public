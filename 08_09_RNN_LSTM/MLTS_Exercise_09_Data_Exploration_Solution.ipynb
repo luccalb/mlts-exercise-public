{
 "cells": [
  {
   "cell_type": "markdown",
   "metadata": {},
   "source": [
    "<h1>MLTS Exercise 08 - Data Exploration</h1>"
   ]
  },
  {
   "cell_type": "markdown",
   "metadata": {},
   "source": [
    "Your task is to read, explore and preprocess the following timeseries dataset. All information you will gather will be useful for the next notebook, were we will train a model based on this data.\n",
    "\n",
    "The dataset can be downloaded from [Individual Household Electric Power Consumption](https://archive.ics.uci.edu/dataset/235/individual+household+electric+power+consumption)\n",
    "\n",
    "It contains \"Measurements of electric power consumption in one household with a one-minute sampling rate over a period of almost 4 years. Different electrical quantities and some sub-metering values are available.\""
   ]
  },
  {
   "cell_type": "markdown",
   "metadata": {},
   "source": [
    "**Reference**  \n",
    "Hebrail, G. & Berard, A. (2006). Individual Household Electric Power Consumption [Dataset]. UCI Machine Learning Repository. https://doi.org/10.24432/C58K54."
   ]
  },
  {
   "cell_type": "code",
   "execution_count": 1,
   "metadata": {},
   "outputs": [],
   "source": [
    "# import packages\n",
    "import pandas as pd\n",
    "import matplotlib.pyplot as plt\n",
    "import seaborn as sns"
   ]
  },
  {
   "cell_type": "markdown",
   "metadata": {},
   "source": [
    "### Load the dataset"
   ]
  },
  {
   "cell_type": "code",
   "execution_count": null,
   "metadata": {},
   "outputs": [],
   "source": [
    "# Importing dataset\n",
    "path = 'data/household_power_consumption.txt'\n",
    "\n",
    "Household_consumption = pd.read_csv(path, sep=';', low_memory=False)\n",
    "Household_consumption"
   ]
  },
  {
   "cell_type": "markdown",
   "metadata": {},
   "source": [
    "## Preprocess Data\n",
    "\n",
    "* Convert seperate date and time columns into datetime column\n",
    "* Convert numeric columns to correct type\n",
    "* Find and replace missing values"
   ]
  },
  {
   "cell_type": "code",
   "execution_count": 3,
   "metadata": {},
   "outputs": [],
   "source": [
    "# Parsing date and time into a single datetime column\n",
    "Household_consumption['Datetime'] = pd.to_datetime(\n",
    "    Household_consumption['Date'] + ' ' + Household_consumption['Time'], \n",
    "    format='%d/%m/%Y %H:%M:%S',\n",
    "    errors='coerce'\n",
    ")\n",
    "# Drop date and time column\n",
    "Household_consumption.drop(columns=['Date', 'Time'], inplace=True)\n",
    "# Drop rows with missing datetime\n",
    "Household_consumption.dropna(subset=['Datetime'], inplace=True)"
   ]
  },
  {
   "cell_type": "code",
   "execution_count": null,
   "metadata": {},
   "outputs": [],
   "source": [
    "# Convert numerical columns to numeric type\n",
    "numeric_columns = [\n",
    "    'Global_active_power', 'Global_reactive_power', 'Voltage',\n",
    "    'Global_intensity', 'Sub_metering_1', 'Sub_metering_2', 'Sub_metering_3'\n",
    "]\n",
    "for col in numeric_columns:\n",
    "    Household_consumption[col] = pd.to_numeric(Household_consumption[col], errors='coerce')\n",
    "\n",
    "Household_consumption.head(3)"
   ]
  },
  {
   "cell_type": "code",
   "execution_count": null,
   "metadata": {},
   "outputs": [],
   "source": [
    "# Find missing values\n",
    "missing_values = Household_consumption.isnull().sum()\n",
    "print(\"Missing values per column:\\n\", missing_values)\n",
    "\n",
    "# Fill missing values with median for simplicity\n",
    "Household_consumption[numeric_columns] = Household_consumption[numeric_columns].fillna(\n",
    "    Household_consumption[numeric_columns].median()\n",
    ")\n",
    "\n",
    "missing_values2 = Household_consumption.isnull().sum()\n",
    "print(\"\\nMissing values per column after getting rid of nul values:\\n\", missing_values2)\n"
   ]
  },
  {
   "cell_type": "code",
   "execution_count": null,
   "metadata": {},
   "outputs": [],
   "source": [
    "# Summary statistics\n",
    "print(\"\\nSummary statistics:\\n\")\n",
    "Household_consumption[numeric_columns].describe()"
   ]
  },
  {
   "cell_type": "markdown",
   "metadata": {},
   "source": [
    "## Explore the data\n",
    "\n",
    "Find different trends by looking at:\n",
    "* Monthly Global Active Power\n",
    "* Energy Usage Comparison Across Sub-Meterings\n",
    "* Proportion of Total Energy Usage by Sub-Metering\n",
    "* Total Global Active Power Consumption by Month\n",
    "* Total Global Active Power Consumption by Day of the Week\n",
    "* Total Global Active Power Consumption by Hour of the Day\n",
    "* Average Hourly Global Active Power Consumption\n",
    "\n",
    "Its recommended to use seaborn for some of these plots."
   ]
  },
  {
   "cell_type": "code",
   "execution_count": null,
   "metadata": {},
   "outputs": [],
   "source": [
    "# Extract month names for grouping\n",
    "Household_consumption['Month'] = Household_consumption['Datetime'].dt.month_name()\n",
    "\n",
    "# Order months correctly\n",
    "month_order = [\n",
    "    \"January\", \"February\", \"March\", \"April\", \"May\", \"June\",\n",
    "    \"July\", \"August\", \"September\", \"October\", \"November\", \"December\"\n",
    "]\n",
    "\n",
    "# Plot boxplot\n",
    "plt.figure(figsize=(12, 6))\n",
    "sns.boxplot(\n",
    "    x='Month', y='Global_active_power', data=Household_consumption,\n",
    "    order=month_order, palette=\"coolwarm\", hue='Month', legend=False\n",
    ")\n",
    "plt.title(\"Monthly Trends of Global Active Power\", fontsize=16)\n",
    "plt.xlabel(\"Month\", fontsize=12)\n",
    "plt.ylabel(\"Global Active Power (kW)\", fontsize=12)\n",
    "plt.show()"
   ]
  },
  {
   "cell_type": "code",
   "execution_count": null,
   "metadata": {},
   "outputs": [],
   "source": [
    "# Melt the sub-metering columns for a single boxplot comparison\n",
    "sub_metering_data = Household_consumption.melt(\n",
    "    id_vars=['Datetime'], \n",
    "    value_vars=['Sub_metering_1', 'Sub_metering_2', 'Sub_metering_3'], \n",
    "    var_name='Sub-Metering', \n",
    "    value_name='Energy Consumption (Wh)'\n",
    ")\n",
    "\n",
    "# Plot boxplot\n",
    "plt.figure(figsize=(8, 5))\n",
    "sns.boxplot(\n",
    "    x='Sub-Metering', y='Energy Consumption (Wh)', data=sub_metering_data,\n",
    "    palette=\"Set2\", hue='Sub-Metering', legend=False\n",
    ")\n",
    "plt.title(\"Energy Usage Comparison Across Sub-Meterings\", fontsize=16)\n",
    "plt.xlabel(\"Sub-Metering\", fontsize=12)\n",
    "plt.ylabel(\"Energy Consumption (Wh)\", fontsize=12)\n",
    "plt.grid(axis='y', linestyle='--', alpha=0.3)\n",
    "\n",
    "# Show plot\n",
    "plt.show()"
   ]
  },
  {
   "cell_type": "code",
   "execution_count": null,
   "metadata": {},
   "outputs": [],
   "source": [
    "# Calculate total energy consumption for each sub-metering\n",
    "sub_metering_totals = {\n",
    "    'Sub-Metering 1 (Kitchen)': Household_consumption['Sub_metering_1'].sum(),\n",
    "    'Sub-Metering 2 (Laundry)': Household_consumption['Sub_metering_2'].sum(),\n",
    "    'Sub-Metering 3 (Water Heater/AC)': Household_consumption['Sub_metering_3'].sum(),\n",
    "}\n",
    "\n",
    "# Create the pie chart\n",
    "plt.figure(figsize=(4, 4))\n",
    "plt.pie(\n",
    "    sub_metering_totals.values(),\n",
    "    labels=sub_metering_totals.keys(),\n",
    "    autopct='%1.1f%%',\n",
    "    startangle=140,\n",
    "    colors=sns.color_palette(\"pastel\")\n",
    ")\n",
    "\n",
    "# Add title\n",
    "plt.title(\"Proportion of Total Energy Usage by Sub-Metering\", fontsize=16)\n",
    "\n",
    "# Show plot\n",
    "plt.show()"
   ]
  },
  {
   "cell_type": "code",
   "execution_count": null,
   "metadata": {},
   "outputs": [],
   "source": [
    "# Group by Month and sum up the global_active_power\n",
    "monthly_totals = Household_consumption.groupby('Month')['Global_active_power'].sum().reindex([\n",
    "    \"January\", \"February\", \"March\", \"April\", \"May\", \"June\", \n",
    "    \"July\", \"August\", \"September\", \"October\", \"November\", \"December\"\n",
    "])\n",
    "\n",
    "# Plot the bar chart\n",
    "plt.figure(figsize=(10, 4))\n",
    "sns.barplot(x=monthly_totals.index, y=monthly_totals.values,palette=\"viridis\",\n",
    "            hue=monthly_totals.index, legend=False)\n",
    "plt.title(\"Total Global Active Power Consumption by Month\", fontsize=16)\n",
    "plt.xlabel(\"Month\", fontsize=12)\n",
    "plt.ylabel(\"Total Energy Consumption (kW)\", fontsize=12)\n",
    "plt.xticks(rotation=45)\n",
    "\n",
    "plt.show()"
   ]
  },
  {
   "cell_type": "code",
   "execution_count": null,
   "metadata": {},
   "outputs": [],
   "source": [
    "# Add a Day of the Week column\n",
    "Household_consumption['Day_of_Week'] = Household_consumption['Datetime'].dt.day_name()\n",
    "\n",
    "# Group by Day of the Week and sum up the global_active_power\n",
    "weekly_totals = Household_consumption.groupby('Day_of_Week')['Global_active_power'].sum().reindex([\n",
    "    \"Monday\", \"Tuesday\", \"Wednesday\", \"Thursday\", \"Friday\", \"Saturday\", \"Sunday\"\n",
    "])\n",
    "\n",
    "# Plot the bar chart\n",
    "plt.figure(figsize=(10, 5))\n",
    "sns.barplot(x=weekly_totals.index, y=weekly_totals.values, palette=\"viridis\",\n",
    "            hue=weekly_totals.index, legend=False)\n",
    "plt.title(\"Total Global Active Power Consumption by Day of the Week\", fontsize=16)\n",
    "plt.xlabel(\"Day of the Week\", fontsize=12)\n",
    "plt.ylabel(\"Total Energy Consumption (kW)\", fontsize=12)\n",
    "plt.show()"
   ]
  },
  {
   "cell_type": "code",
   "execution_count": null,
   "metadata": {},
   "outputs": [],
   "source": [
    "# Add an Hour column\n",
    "Household_consumption['Hour'] = Household_consumption['Datetime'].dt.hour\n",
    "\n",
    "# Group by Hour and sum up the global_active_power\n",
    "hourly_totals = Household_consumption.groupby('Hour')['Global_active_power'].sum()\n",
    "\n",
    "# Plot the bar chart\n",
    "plt.figure(figsize=(10, 4))\n",
    "sns.barplot(x=hourly_totals.index, y=hourly_totals.values, palette=\"plasma\",\n",
    "            hue=hourly_totals.index, legend=False)\n",
    "plt.title(\"Total Global Active Power Consumption by Hour of the Day\", fontsize=16)\n",
    "plt.xlabel(\"Hour of the Day\", fontsize=12)\n",
    "plt.ylabel(\"Total Energy Consumption (kW)\", fontsize=12)\n",
    "plt.xticks(range(0, 24), rotation=45)\n",
    "plt.show()"
   ]
  },
  {
   "cell_type": "code",
   "execution_count": null,
   "metadata": {},
   "outputs": [],
   "source": [
    "# Extract the hour of the day\n",
    "Household_consumption['Hour'] = Household_consumption['Datetime'].dt.hour\n",
    "\n",
    "# Group by hour and calculate average energy consumption\n",
    "hourly_avg = Household_consumption.groupby('Hour')['Global_active_power'].mean()\n",
    "\n",
    "# Plot hourly trends averaged over all days\n",
    "plt.figure(figsize=(10, 4))\n",
    "plt.plot(hourly_avg.index, hourly_avg.values, marker='o', linestyle='-', color='purple', linewidth=2)\n",
    "plt.title(\"Average Hourly Global Active Power Consumption\", fontsize=16)\n",
    "plt.xlabel(\"Hour of the Day\", fontsize=12)\n",
    "plt.ylabel(\"Average Energy Consumption (kW)\", fontsize=12)\n",
    "plt.xticks(range(0, 24))\n",
    "plt.grid(alpha=0.3)\n",
    "plt.show()"
   ]
  },
  {
   "cell_type": "markdown",
   "metadata": {},
   "source": [
    "## Time Series Specific Data Analysis\n",
    "\n",
    "Look at the\n",
    "* Daily Global Active Power Consumption with 7-Day Rolling Average\n",
    "* Daily Global Active Power Consumption with 30-Day Rolling Average"
   ]
  },
  {
   "cell_type": "code",
   "execution_count": null,
   "metadata": {},
   "outputs": [],
   "source": [
    "# Resample data to daily sums\n",
    "daily_data_week = Household_consumption.resample('D', on='Datetime')['Global_active_power'].mean()\n",
    "\n",
    "# Calculate a 7-day rolling average\n",
    "daily_data_rolling = daily_data_week.rolling(window=7).mean()\n",
    "\n",
    "# Plot daily trends and rolling average\n",
    "plt.figure(figsize=(12, 6))\n",
    "plt.plot(daily_data_week.index, daily_data_week, label=\"Daily Global Active Power\", color='blue', alpha=0.6)\n",
    "plt.plot(daily_data_rolling.index, daily_data_rolling, label=\"7-Day Rolling Average\", color='red', linewidth=2)\n",
    "plt.title(\"Daily Global Active Power Consumption with 7-Day Rolling Average\", fontsize=16)\n",
    "plt.xlabel(\"Date\", fontsize=12)\n",
    "plt.ylabel(\"Energy Consumption (kW)\", fontsize=12)\n",
    "plt.legend(fontsize=12)\n",
    "plt.grid(alpha=0.3)\n",
    "plt.show()\n"
   ]
  },
  {
   "cell_type": "code",
   "execution_count": null,
   "metadata": {},
   "outputs": [],
   "source": [
    "# Resample the data to get daily sums\n",
    "daily_data_month= Household_consumption.resample('D', on='Datetime')['Global_active_power'].mean()\n",
    "\n",
    "# Calculate a 30-day rolling average\n",
    "daily_data_rolling = daily_data_month.rolling(window=30).mean()\n",
    "\n",
    "# Plot daily trends and 30-day rolling average\n",
    "plt.figure(figsize=(12, 6))\n",
    "plt.plot(daily_data_month.index, daily_data_month, label=\"Daily Global Active Power\", color='blue', alpha=0.6)\n",
    "plt.plot(daily_data_rolling.index, daily_data_rolling, label=\"30-Day Rolling Average\", color='red', linewidth=2)\n",
    "plt.title(\"Daily Global Active Power Consumption with 30-Day Rolling Average\", fontsize=16)\n",
    "plt.xlabel(\"Date\", fontsize=12)\n",
    "plt.ylabel(\"Energy Consumption (kW)\", fontsize=12)\n",
    "plt.legend(fontsize=12)\n",
    "plt.grid(alpha=0.3)\n"
   ]
  }
 ],
 "metadata": {
  "kernelspec": {
   "display_name": "venv",
   "language": "python",
   "name": "python3"
  },
  "language_info": {
   "codemirror_mode": {
    "name": "ipython",
    "version": 3
   },
   "file_extension": ".py",
   "mimetype": "text/x-python",
   "name": "python",
   "nbconvert_exporter": "python",
   "pygments_lexer": "ipython3",
   "version": "3.12.7"
  }
 },
 "nbformat": 4,
 "nbformat_minor": 2
}
